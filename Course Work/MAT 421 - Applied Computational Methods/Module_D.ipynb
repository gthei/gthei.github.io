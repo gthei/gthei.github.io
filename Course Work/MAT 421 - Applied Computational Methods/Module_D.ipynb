{
  "nbformat": 4,
  "nbformat_minor": 0,
  "metadata": {
    "colab": {
      "provenance": []
    },
    "kernelspec": {
      "name": "python3",
      "display_name": "Python 3"
    },
    "language_info": {
      "name": "python"
    }
  },
  "cells": [
    {
      "cell_type": "markdown",
      "source": [
        "# Review\n",
        "Recall the common sets that are used in mathematics.\n",
        "\n",
        "Complex Numbers - The set of all numbers which possess a real and imaginary component and can be written in the form $a +bi$ where $i$ is the imaginary number $\\sqrt{-1}$.\n",
        "\n",
        "Real Numbers- The set of all numbers which can be expressed such that the scalar value $b$ is equal to zero.\n",
        "\n",
        "The Rationals - The set of all numbers which can be written as a whole number or a fraction.\n",
        "\n",
        "The Integers - The set of all numbers which can be written as a whole number.\n",
        "\n",
        "The Naturals - The set of all integers larger than zero."
      ],
      "metadata": {
        "id": "0IM6qf8wZQmu"
      }
    },
    {
      "cell_type": "markdown",
      "source": [
        "# 1.2 Linear Algebra\n",
        "A Linear combination can be found by multiplying a vector $V = [x, y, z]$ by a scalar value $a$ and adding the resulting components.\n",
        "\n",
        "$a[x, y, z]$\n",
        "\n",
        "$[ax, ay, az]$\n",
        "\n",
        "$ax + ay + az$\n",
        "\n",
        "Below, we can see how to implement this using python and numpy:"
      ],
      "metadata": {
        "id": "mhk-H4eqbLP_"
      }
    },
    {
      "cell_type": "code",
      "source": [
        "import numpy as np\n",
        "\n",
        "a = 3\n",
        "x = 1\n",
        "y = 2\n",
        "z = 3\n",
        "V = np.array([x,y,z])\n",
        "\n",
        "multiple = a*V # Multiply vector by scalar value\n",
        "linear_combination = multiple.sum() # Sum resulting component values together\n",
        "\n",
        "print(linear_combination)"
      ],
      "metadata": {
        "colab": {
          "base_uri": "https://localhost:8080/"
        },
        "id": "NVs3H0uXcmoq",
        "outputId": "a2f94c1c-6ccc-4efe-bbf8-7133dfd02cd2"
      },
      "execution_count": null,
      "outputs": [
        {
          "output_type": "stream",
          "name": "stdout",
          "text": [
            "18\n"
          ]
        }
      ]
    },
    {
      "cell_type": "markdown",
      "source": [
        "# 1.3 Orthogonality\n",
        "\n",
        "Orthogonality, or the quality of being perpendicular to something, is an important concept in mathematics. The orthogonal vector can be given as the cross product of two vectors $V = [a_{1}, a_{2}, a_{3}]$ and $W = [b_{1}, b_{2}, b_{3}]$. An example in python can be found below:"
      ],
      "metadata": {
        "id": "W-4kmQ_Rdbvx"
      }
    },
    {
      "cell_type": "code",
      "source": [
        "V = np.array([1,2,3])\n",
        "W = np.array([4,5,6])\n",
        "\n",
        "cross_product = np.cross(V,W)\n",
        "\n",
        "print(cross_product)"
      ],
      "metadata": {
        "colab": {
          "base_uri": "https://localhost:8080/"
        },
        "id": "KdRWqW-Kf0g1",
        "outputId": "31fa7caa-3b03-4f1f-f612-eae80e596d93"
      },
      "execution_count": null,
      "outputs": [
        {
          "output_type": "stream",
          "name": "stdout",
          "text": [
            "[-3  6 -3]\n"
          ]
        }
      ]
    },
    {
      "cell_type": "markdown",
      "source": [
        "It should be noted the the linear combination, also known as the dot product, of any given pair of vectors will be equal to zero."
      ],
      "metadata": {
        "id": "yklA-KNwgbhn"
      }
    },
    {
      "cell_type": "code",
      "source": [
        "x = np.dot(V,W)\n",
        "\n",
        "if x == 0:\n",
        "  print(\"The vectors are perpendicular\")\n",
        "else:\n",
        "  print(\"The vectors are not perpendicular\")\n"
      ],
      "metadata": {
        "colab": {
          "base_uri": "https://localhost:8080/"
        },
        "id": "ZIMj3DubgoWI",
        "outputId": "9239b8f9-cdb9-46b3-c63f-023f602f3342"
      },
      "execution_count": null,
      "outputs": [
        {
          "output_type": "stream",
          "name": "stdout",
          "text": [
            "The vectors are not perpendicular\n"
          ]
        }
      ]
    }
  ]
}