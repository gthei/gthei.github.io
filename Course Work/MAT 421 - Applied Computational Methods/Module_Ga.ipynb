{
  "nbformat": 4,
  "nbformat_minor": 0,
  "metadata": {
    "colab": {
      "provenance": []
    },
    "kernelspec": {
      "name": "python3",
      "display_name": "Python 3"
    },
    "language_info": {
      "name": "python"
    }
  },
  "cells": [
    {
      "cell_type": "markdown",
      "source": [
        "# Introduction to Integration\n",
        "\n",
        "Continuing from the last problem, we will look at integration. Integration can be thought of as the reversal of the derivative, hence why it is often called an antiderivative. By performing this to a function over a given interval, we are able to find the area under that function over that interval."
      ],
      "metadata": {
        "id": "3ZMiEby0ktvV"
      }
    },
    {
      "cell_type": "markdown",
      "source": [
        "# Riemann Integration\n",
        "\n",
        "A common method of integration that is used is called Riemann Integration. The process involves slicing an interval into smaller segments, finding the area created by a rectangle formed between the axis and the function, and summing the results.\n",
        "\n",
        "More formally, it is defined as taking a function $f(x)$ over interval $[a,b]$, and summating the areas formed start from $x_{i}$. To perform this process in python, we can use the follow code:"
      ],
      "metadata": {
        "id": "cKsisxAvqfpB"
      }
    },
    {
      "cell_type": "code",
      "execution_count": null,
      "metadata": {
        "id": "64SFVYEQkdbt"
      },
      "outputs": [],
      "source": [
        "import numpy as np\n",
        "import matplotlib.pyplot as plt"
      ]
    },
    {
      "cell_type": "code",
      "source": [
        "# EXAMPLE 1\n",
        "\n",
        "# First we define our function\n",
        "f = lambda x: x**2 + 2*x + 4\n",
        "\n",
        "# Next we define our interval\n",
        "a = 0\n",
        "b = 5\n",
        "\n",
        "# We then define our incrementation unit\n",
        "n = 10\n",
        "\n",
        "# Next we will define the python function to estimate the integral\n",
        "def integral_estimate(f, a, b, n):\n",
        "    sum = 0\n",
        "    w = (b - a)/n\n",
        "    for i in range (1,n+1):\n",
        "        h = f(a + (i-1)*w)\n",
        "        sum += w*h\n",
        "\n",
        "    return sum\n",
        "\n",
        "# Finally, we pass our variables into the function\n",
        "integral = integral_estimate(f, a, b, n)\n",
        "\n",
        "print(\"Estimated Integral is: \", integral)\n"
      ],
      "metadata": {
        "colab": {
          "base_uri": "https://localhost:8080/"
        },
        "id": "wXcgz3-Cqdu8",
        "outputId": "bfe5a958-58eb-4510-faf1-10a1419b2fbf"
      },
      "execution_count": null,
      "outputs": [
        {
          "output_type": "stream",
          "name": "stdout",
          "text": [
            "Estimated Integral is:  78.125\n"
          ]
        }
      ]
    },
    {
      "cell_type": "markdown",
      "source": [
        "For a more precise calculation, we only need to increase the value of n and repeat the process:"
      ],
      "metadata": {
        "id": "qTRC6cezyeWf"
      }
    },
    {
      "cell_type": "code",
      "source": [
        "n = 100\n",
        "\n",
        "integral = integral_estimate(f, a, b, n)\n",
        "\n",
        "print(\"Estimated Integral is: \", integral)"
      ],
      "metadata": {
        "colab": {
          "base_uri": "https://localhost:8080/"
        },
        "id": "1lV72HcRyamv",
        "outputId": "82f2f2b1-873b-4c04-8bd5-8202cdb8fd26"
      },
      "execution_count": null,
      "outputs": [
        {
          "output_type": "stream",
          "name": "stdout",
          "text": [
            "Estimated Integral is:  85.79375\n"
          ]
        }
      ]
    },
    {
      "cell_type": "markdown",
      "source": [
        "As the value of n increases, we see that we begin to approach an approximate value:"
      ],
      "metadata": {
        "id": "8sivI7keyx4G"
      }
    },
    {
      "cell_type": "code",
      "source": [
        "n = 1000\n",
        "\n",
        "integral = integral_estimate(f, a, b, n)\n",
        "\n",
        "print(\"Estimated Integral is: \", integral)"
      ],
      "metadata": {
        "colab": {
          "base_uri": "https://localhost:8080/"
        },
        "id": "ZnHXoG9Ly2Uq",
        "outputId": "bacb1684-0555-4496-a45a-8bb4797fe91b"
      },
      "execution_count": null,
      "outputs": [
        {
          "output_type": "stream",
          "name": "stdout",
          "text": [
            "Estimated Integral is:  86.5791875\n"
          ]
        }
      ]
    },
    {
      "cell_type": "code",
      "source": [
        "n = 10000\n",
        "\n",
        "integral = integral_estimate(f, a, b, n)\n",
        "\n",
        "print(\"Estimated Integral is: \", integral)"
      ],
      "metadata": {
        "colab": {
          "base_uri": "https://localhost:8080/"
        },
        "id": "uvBJS8R7y_10",
        "outputId": "8e00d580-7d1c-40aa-adbb-9a15e0bfb7f8"
      },
      "execution_count": null,
      "outputs": [
        {
          "output_type": "stream",
          "name": "stdout",
          "text": [
            "Estimated Integral is:  86.65791687500052\n"
          ]
        }
      ]
    },
    {
      "cell_type": "markdown",
      "source": [
        "We can also use built in scipy methods to perform the operation for us:"
      ],
      "metadata": {
        "id": "8OEoEuTazDL2"
      }
    },
    {
      "cell_type": "code",
      "source": [
        "import scipy as sp"
      ],
      "metadata": {
        "id": "Ufy-Y64vzXYZ"
      },
      "execution_count": null,
      "outputs": []
    },
    {
      "cell_type": "code",
      "source": [
        "integral = sp.integrate.quad(f, a, b)\n",
        "\n",
        "print(\"Estimated Integral is: \", integral)"
      ],
      "metadata": {
        "colab": {
          "base_uri": "https://localhost:8080/"
        },
        "id": "aZXjR6LzzNFb",
        "outputId": "73b0d9fb-01f5-4211-aeb7-9e8e6b7671d4"
      },
      "execution_count": null,
      "outputs": [
        {
          "output_type": "stream",
          "name": "stdout",
          "text": [
            "Estimated Integral is:  (86.66666666666669, 9.621932880084691e-13)\n"
          ]
        }
      ]
    },
    {
      "cell_type": "markdown",
      "source": [
        "The benefit of using the scipy package is that we can more easily define the method of integration we wish to use."
      ],
      "metadata": {
        "id": "Q9c6g8rf0nep"
      }
    }
  ]
}