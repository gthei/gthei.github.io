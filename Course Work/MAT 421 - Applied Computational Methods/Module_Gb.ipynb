{
  "nbformat": 4,
  "nbformat_minor": 0,
  "metadata": {
    "colab": {
      "provenance": []
    },
    "kernelspec": {
      "name": "python3",
      "display_name": "Python 3"
    },
    "language_info": {
      "name": "python"
    }
  },
  "cells": [
    {
      "cell_type": "markdown",
      "source": [
        "# Simpson's Rule\n",
        "Another way to integrate is using simpson's rule. To do this, we choose some point $x_{i}$ along function $f(x)$ and increment by one to find $x_{i-1}$ and $f(x_{i-1})$. We then find a quadratic equation connecting the points ($x_{i}$, $f(x_{i})$) and ($x_{i-1}$, $f(x_{i-1})$). We then integrate this quadratic exactly to find the approximation. An example of this in python can be seen below:"
      ],
      "metadata": {
        "id": "ZXNxLk77gpAp"
      }
    },
    {
      "cell_type": "code",
      "execution_count": null,
      "metadata": {
        "colab": {
          "base_uri": "https://localhost:8080/"
        },
        "id": "SMr-4acne-j-",
        "outputId": "83df532f-7250-4c29-edfe-2c04c0146877"
      },
      "outputs": [
        {
          "output_type": "stream",
          "name": "stdout",
          "text": [
            "27.93854600799433\n"
          ]
        }
      ],
      "source": [
        "import numpy as np\n",
        "import math\n",
        "\n",
        "a = 0\n",
        "\n",
        "b = math.e\n",
        "\n",
        "n = 10\n",
        "\n",
        "k = (b - a)/(n - 1)\n",
        "\n",
        "x = np.linspace( a, b, n)\n",
        "\n",
        "F = x**2 + 2*x + 4\n",
        "\n",
        "simp_rule = (k/3) * (F[0] + 2*sum(F[:n-2:]) + 4*sum(F[1:n-1:2]) + F[n-1])\n",
        "\n",
        "print(simp_rule)"
      ]
    },
    {
      "cell_type": "markdown",
      "source": [
        "We can find more precise measurements as we increase the value of n, which is the number of samples for which we perform this on:"
      ],
      "metadata": {
        "id": "7lt6zC-9nKs2"
      }
    },
    {
      "cell_type": "code",
      "source": [
        "a = 0\n",
        "\n",
        "b = math.e\n",
        "\n",
        "n = 100\n",
        "\n",
        "k = (b - a)/(n - 1)\n",
        "\n",
        "x = np.linspace( a, b, n)\n",
        "\n",
        "F = x**2 + 2*x + 4\n",
        "\n",
        "simp_rule = (k/3) * (F[0] + 2*sum(F[:n-2:]) + 4*sum(F[1:n-1:2]) + F[n-1])\n",
        "\n",
        "print(simp_rule)"
      ],
      "metadata": {
        "colab": {
          "base_uri": "https://localhost:8080/"
        },
        "id": "Gib68J_-nU3d",
        "outputId": "e70e1c13-4ac6-4131-d45d-909447488e18"
      },
      "execution_count": null,
      "outputs": [
        {
          "output_type": "stream",
          "name": "stdout",
          "text": [
            "32.73908435795626\n"
          ]
        }
      ]
    },
    {
      "cell_type": "code",
      "source": [
        "a = 0\n",
        "\n",
        "b = math.e\n",
        "\n",
        "n = 1000\n",
        "\n",
        "k = (b - a)/(n - 1)\n",
        "\n",
        "x = np.linspace( a, b, n)\n",
        "\n",
        "F = x**2 + 2*x + 4\n",
        "\n",
        "simp_rule = (k/3) * (F[0] + 2*sum(F[:n-2:]) + 4*sum(F[1:n-1:2]) + F[n-1])\n",
        "\n",
        "print(simp_rule)"
      ],
      "metadata": {
        "colab": {
          "base_uri": "https://localhost:8080/"
        },
        "id": "Tz9VO5bXnbJ7",
        "outputId": "7d7c4166-e9cf-4fa5-b140-bca64aeefccd"
      },
      "execution_count": null,
      "outputs": [
        {
          "output_type": "stream",
          "name": "stdout",
          "text": [
            "33.222748588064285\n"
          ]
        }
      ]
    }
  ]
}