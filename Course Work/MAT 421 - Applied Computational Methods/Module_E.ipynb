{
  "nbformat": 4,
  "nbformat_minor": 0,
  "metadata": {
    "colab": {
      "provenance": []
    },
    "kernelspec": {
      "name": "python3",
      "display_name": "Python 3"
    },
    "language_info": {
      "name": "python"
    }
  },
  "cells": [
    {
      "cell_type": "markdown",
      "source": [
        "# 3.2 Continuity and Differentiation\n",
        "\n",
        "Recall that the derivative of a function is the instanteous rate of change of a function $f$ at a given point $x$. We define this differential function as $\\lim_{h \\to 0} f'(x) = \\frac{f(x+h) - f(x)}{h}$ where $h$ is an incremental increase in the position of $x$. We can take the derivative of a function in python using the following code:"
      ],
      "metadata": {
        "id": "-AIPDnLz68MW"
      }
    },
    {
      "cell_type": "code",
      "execution_count": null,
      "metadata": {
        "colab": {
          "base_uri": "https://localhost:8080/",
          "height": 54
        },
        "id": "-_b8OHbx6VSE",
        "outputId": "c72f31de-524e-48d1-9397-f2b69e0a716a"
      },
      "outputs": [
        {
          "output_type": "execute_result",
          "data": {
            "text/plain": [
              "(3*x**2 + 2)/(2*x**2) - (x**3 + 2*x + 3)/x**3"
            ],
            "text/latex": "$\\displaystyle \\frac{3 x^{2} + 2}{2 x^{2}} - \\frac{x^{3} + 2 x + 3}{x^{3}}$"
          },
          "metadata": {},
          "execution_count": 5
        }
      ],
      "source": [
        "import sympy as sym\n",
        "\n",
        "# EXAMPLE 1\n",
        "x = sym.Symbol('x') # define 'x' as a mathematical variable\n",
        "y = x**2 # define the function\n",
        "sym.diff(y) # take the derivative of the function\n",
        "\n",
        "# EXAMPLE 2\n",
        "x = sym.Symbol('x') # define 'x' as a mathematical variable\n",
        "y = (x**3 + 2*x + 3)/(2*(x**2)) # define the function\n",
        "sym.diff(y) # take the derivative of the function"
      ]
    },
    {
      "cell_type": "markdown",
      "source": [
        "A central feature of finding the derivative of a given function is a limit. We can find the limit in python using the following method:"
      ],
      "metadata": {
        "id": "F6-bP4N_CtIy"
      }
    },
    {
      "cell_type": "code",
      "source": [
        "# EXAMPLE 1\n",
        "x = sym.Symbol('x')\n",
        "y = x**2\n",
        "\n",
        "limit1 = sym.limit(y, x, 0)\n",
        "\n",
        "if format(limit1) == 'oo':\n",
        "  print(\"limit is infinity\")\n",
        "else:\n",
        "  print(\"limit is\", format(limit1))\n",
        "\n",
        "# EXAMPLE 2\n",
        "x = sym.Symbol('x') # define 'x' as a mathematical variable\n",
        "y = (x**3 + 2*x + 3)/(2*(x**2)) # define the function\n",
        "\n",
        "limit2 = sym.limit(y, x, 0)\n",
        "\n",
        "if format(limit2) == 'oo':\n",
        "  print(\"limit is infinity\")\n",
        "else:\n",
        "  print(\"limit is\", format(limit2))"
      ],
      "metadata": {
        "colab": {
          "base_uri": "https://localhost:8080/"
        },
        "id": "OAr2fP2MCvOl",
        "outputId": "1a9fbba6-01cc-4216-e678-176300d651bd"
      },
      "execution_count": null,
      "outputs": [
        {
          "output_type": "stream",
          "name": "stdout",
          "text": [
            "limit is 0\n",
            "limit is infinity\n"
          ]
        }
      ]
    }
  ]
}