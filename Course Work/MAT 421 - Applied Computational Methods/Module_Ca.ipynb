{
  "nbformat": 4,
  "nbformat_minor": 0,
  "metadata": {
    "colab": {
      "provenance": []
    },
    "kernelspec": {
      "name": "python3",
      "display_name": "Python 3"
    },
    "language_info": {
      "name": "python"
    }
  },
  "cells": [
    {
      "cell_type": "markdown",
      "source": [
        "# 19.1 - Root Finding\n",
        "\n",
        "Recall that a root of a function $f(x)$ is a point $x_{r}$ such that $f(x_{r}) = 0$.\n",
        "\n",
        "\n",
        "For example, the roots of function $f(x) = x^2 - 16$ are $x = 4$ and $x = -4$.\n",
        "\n",
        "\n",
        "To find the root of a function using python, do the following:\n"
      ],
      "metadata": {
        "id": "g2LJ09YU_WtU"
      }
    },
    {
      "cell_type": "code",
      "execution_count": null,
      "metadata": {
        "colab": {
          "base_uri": "https://localhost:8080/"
        },
        "id": "JKGpw01a1w6u",
        "outputId": "0e05846e-c31c-4ca6-b684-5c527989aea2"
      },
      "outputs": [
        {
          "output_type": "stream",
          "name": "stdout",
          "text": [
            "r = [-5.99999983]\n",
            "result = [2.13162821e-14]\n"
          ]
        }
      ],
      "source": [
        "import numpy as np\n",
        "from scipy import optimize\n",
        "\n",
        "\n",
        "#Example 1:\n",
        "f = lambda x: (x**2) + 12*x + 36\n",
        "r = optimize.fsolve(f, -5)\n",
        "print(\"r =\", r)\n",
        "\n",
        "solution = f(r)\n",
        "print(\"result =\", solution)"
      ]
    },
    {
      "cell_type": "code",
      "source": [
        "#Example 2:\n",
        "g = lambda x: 1/x\n",
        "r = optimize.fsolve(g, -5)\n",
        "print(\"r =\", r)\n",
        "\n",
        "solution = g(r)\n",
        "print(\"result =\", solution)"
      ],
      "metadata": {
        "colab": {
          "base_uri": "https://localhost:8080/"
        },
        "id": "a3RVno5fFL3K",
        "outputId": "6bd86d74-e93d-483c-fb46-e4e481c602c0"
      },
      "execution_count": null,
      "outputs": [
        {
          "output_type": "stream",
          "name": "stdout",
          "text": [
            "r = [-8.80118398e+83]\n",
            "result = [-1.13621077e-84]\n"
          ]
        },
        {
          "output_type": "stream",
          "name": "stderr",
          "text": [
            "/usr/local/lib/python3.8/dist-packages/scipy/optimize/minpack.py:175: RuntimeWarning: The number of calls to function has reached maxfev = 400.\n",
            "  warnings.warn(msg, RuntimeWarning)\n"
          ]
        }
      ]
    },
    {
      "cell_type": "code",
      "source": [
        "#Example 3:\n",
        "h = lambda x: 1/(x**2)\n",
        "r = optimize.fsolve(h, -5)\n",
        "print(\"r =\", r)\n",
        "\n",
        "solution = h(r)\n",
        "print(\"result =\", solution)"
      ],
      "metadata": {
        "colab": {
          "base_uri": "https://localhost:8080/"
        },
        "id": "gvpqkW8YFOhv",
        "outputId": "59281915-eb59-4735-d25f-bc83799ebe9a"
      },
      "execution_count": null,
      "outputs": [
        {
          "output_type": "stream",
          "name": "stdout",
          "text": [
            "r = [-2.20879263e+49]\n",
            "result = [2.0496991e-99]\n"
          ]
        }
      ]
    },
    {
      "cell_type": "markdown",
      "source": [
        "# 19.2 Tolerance\n",
        "\n",
        "In computing these results numerically, there is bound to be some error, or deviation from what is expected. To combat this, a tolerance is set, which the error threshold that we are willing to accept.\n",
        "\n",
        "# 19.3 Bisection Method\n",
        "\n",
        "The Bisection method is another way of finding the root of a given function using the intermediate value theorem. The intermediate value theorem states that if a function $f(x)$ is continous between a set of points {$a,b$}, then there must exist some point $c$ between a and b such that $f(c) = 0$."
      ],
      "metadata": {
        "id": "V5nm55MtFakA"
      }
    },
    {
      "cell_type": "code",
      "source": [
        "def bisect(g,a,b,k):\n",
        "  if g(a)*g(b) >= 0:\n",
        "    print(\"Failed\")\n",
        "    return None\n",
        "  f_a = a\n",
        "  f_b = b\n",
        "  for n in range(1,k+1):\n",
        "      f_m = (f_a + f_b)/2\n",
        "      g_f_m = g(f_m)\n",
        "      if g(f_a)*g_f_m < 0:\n",
        "          f_a = f_a\n",
        "          f_b = f_m\n",
        "      elif g(f_b)*g_f_m < 0:\n",
        "          f_a = f_m\n",
        "          f_b = f_b\n",
        "      elif g_f_m == 0:\n",
        "          print(\"Solution found\")\n",
        "          return f_m\n",
        "      else:\n",
        "          print(\"Failed\")\n",
        "          return None\n",
        "  return (f_a + f_b)/2"
      ],
      "metadata": {
        "id": "Iho0fYc4Higv"
      },
      "execution_count": null,
      "outputs": []
    },
    {
      "cell_type": "markdown",
      "source": [
        "Using this method to solve the examples from 19.1, we get:"
      ],
      "metadata": {
        "id": "wePVJyWJJvHB"
      }
    },
    {
      "cell_type": "code",
      "source": [
        "#Example 1:\n",
        "f = lambda x: x**2 - 36\n",
        "r = bisect(f, 0, 12, 1)\n",
        "print(\"r =\", r)\n",
        "\n",
        "solution = f(r)\n",
        "print(\"f(r) =\", solution)"
      ],
      "metadata": {
        "colab": {
          "base_uri": "https://localhost:8080/"
        },
        "id": "SbXsPAnnJzIw",
        "outputId": "1f938571-b231-4160-c84e-c4300ce08172"
      },
      "execution_count": null,
      "outputs": [
        {
          "output_type": "stream",
          "name": "stdout",
          "text": [
            "Solution found\n",
            "r = 6.0\n",
            "f(r) = 0.0\n"
          ]
        }
      ]
    }
  ]
}